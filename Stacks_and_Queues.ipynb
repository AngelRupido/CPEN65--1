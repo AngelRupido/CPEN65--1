{
  "nbformat": 4,
  "nbformat_minor": 0,
  "metadata": {
    "colab": {
      "provenance": [],
      "authorship_tag": "ABX9TyO3sOBtqwI3H1nlprIdXS0O",
      "include_colab_link": true
    },
    "kernelspec": {
      "name": "python3",
      "display_name": "Python 3"
    },
    "language_info": {
      "name": "python"
    }
  },
  "cells": [
    {
      "cell_type": "markdown",
      "metadata": {
        "id": "view-in-github",
        "colab_type": "text"
      },
      "source": [
        "<a href=\"https://colab.research.google.com/github/AngelRupido/CPEN65--1/blob/main/Stacks_and_Queues.ipynb\" target=\"_parent\"><img src=\"https://colab.research.google.com/assets/colab-badge.svg\" alt=\"Open In Colab\"/></a>"
      ]
    },
    {
      "cell_type": "code",
      "source": [
        "class Stack:                                                # (LIFO)\n",
        "  def __init__(self):\n",
        "    self.stack = []                                         # stack implementation using OOP concepts\n",
        "  def push(self, dataval):\n",
        "    if dataval not in self.stack:\n",
        "      return self.stack.append(dataval)\n",
        "    else:\n",
        "      return False\n",
        "  def pop(self):\n",
        "    if len(self.stack) <=0:                                                     \n",
        "      return (\"No element in the stack\")\n",
        "    else:\n",
        "      return self.stack.pop()\n",
        "AStack = Stack()\n",
        "AStack.push(\"A\")\n",
        "AStack.push(\"B\")\n",
        "AStack.push(\"C\")\n",
        "print(AStack.stack)\n",
        "AStack.pop()\n",
        "AStack.pop()\n",
        "print(AStack.stack)"
      ],
      "metadata": {
        "colab": {
          "base_uri": "https://localhost:8080/"
        },
        "id": "N2EiP4cve1mj",
        "outputId": "0ce1589c-91e1-43c1-a66e-71d060aff54a"
      },
      "execution_count": 16,
      "outputs": [
        {
          "output_type": "stream",
          "name": "stdout",
          "text": [
            "['A', 'B', 'C']\n",
            "['A']\n"
          ]
        }
      ]
    },
    {
      "cell_type": "code",
      "source": [
        "class Stack:                                  # (LIFO)\n",
        "  def __init__(self):\n",
        "    self.stack = []                           # OOP Concepts (stack implementation)\n",
        "\n",
        "  def add(self,dataval):\n",
        "    if dataval not in self.stack:\n",
        "      return self.stack.append(dataval)\n",
        "    else:\n",
        "      return False\n",
        "  def remove(self):\n",
        "    if len(self.stack)<=0:\n",
        "      return (\"No element in the stack\")\n",
        "    else:\n",
        "      return self.stack.pop()\n",
        "\n",
        "AStack = Stack()\n",
        "AStack.add(\"A\")\n",
        "AStack.add(\"B\")\n",
        "AStack.add(\"C\")\n",
        "print(AStack.stack)\n",
        "AStack.remove()\n",
        "AStack.remove()\n",
        "print(AStack.stack)"
      ],
      "metadata": {
        "colab": {
          "base_uri": "https://localhost:8080/"
        },
        "id": "vBpqTBKhmbtQ",
        "outputId": "50193b0e-0fba-4e61-d479-c5cfed75ad6e"
      },
      "execution_count": 19,
      "outputs": [
        {
          "output_type": "stream",
          "name": "stdout",
          "text": [
            "['A', 'B', 'C']\n",
            "['A']\n"
          ]
        }
      ]
    },
    {
      "cell_type": "code",
      "source": [
        "# APPLICATION 1: Implement the above program by Queues Data Structure (enqueue and dequeue/FIFO principle)\n",
        "\n",
        "\n",
        "class Queue:\n",
        "  def __init__(self):\n",
        "    self.queue = []\n",
        "\n",
        "  def enqueue(self, dataval):\n",
        "    if dataval not in self.queue:\n",
        "      return self.queue.append(dataval)\n",
        "    else:\n",
        "      return False\n",
        "\n",
        "  def dequeue(self):\n",
        "    if len(self.queue) <= 0:\n",
        "      return (\"No element in queue\")\n",
        "    else:\n",
        "      return self.queue.pop(0)\n",
        "\n",
        "check = Queue()\n",
        "check.enqueue('A')\n",
        "check.enqueue('B')\n",
        "check.enqueue('C')\n",
        "print(check.queue)\n",
        "\n",
        "check.dequeue()\n",
        "print(check.queue)\n",
        "check.dequeue()\n",
        "print(check.queue)"
      ],
      "metadata": {
        "colab": {
          "base_uri": "https://localhost:8080/"
        },
        "id": "iIqdKdvTmn_H",
        "outputId": "ad90eac4-59a1-47ef-d7b3-a3d5b051f54b"
      },
      "execution_count": 28,
      "outputs": [
        {
          "output_type": "stream",
          "name": "stdout",
          "text": [
            "['A', 'B', 'C']\n",
            "['B', 'C']\n",
            "['C']\n"
          ]
        }
      ]
    }
  ]
}