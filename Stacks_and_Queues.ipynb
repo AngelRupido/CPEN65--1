{
  "nbformat": 4,
  "nbformat_minor": 0,
  "metadata": {
    "colab": {
      "provenance": [],
      "authorship_tag": "ABX9TyP0j0FKEP/fdBGpbzHsj0WV",
      "include_colab_link": true
    },
    "kernelspec": {
      "name": "python3",
      "display_name": "Python 3"
    },
    "language_info": {
      "name": "python"
    }
  },
  "cells": [
    {
      "cell_type": "markdown",
      "metadata": {
        "id": "view-in-github",
        "colab_type": "text"
      },
      "source": [
        "<a href=\"https://colab.research.google.com/github/AngelRupido/CPEN65--1/blob/main/Stacks_and_Queues.ipynb\" target=\"_parent\"><img src=\"https://colab.research.google.com/assets/colab-badge.svg\" alt=\"Open In Colab\"/></a>"
      ]
    },
    {
      "cell_type": "code",
      "source": [
        "class Stack:\n",
        "  def __init__(self):\n",
        "    self.stack = []                                         # stack implementation using OOP concepts\n",
        "\n",
        "  def push(self, dataval):\n",
        "    if dataval not in self.stack:\n",
        "      return self.stack.append(dataval)\n",
        "    else:\n",
        "      return False\n",
        "\n",
        "  def pop(self):\n",
        "    if len(self.stack) <=0:                                                       ## won't remove if the stack is empty\n",
        "      return (\"No element in the stack\")\n",
        "    else:\n",
        "      return self.stack.pop()\n",
        "\n",
        "AStack = Stack()\n",
        "AStack.push(\"A\")\n",
        "AStack.push(\"B\")\n",
        "AStack.push(\"C\")\n",
        "print(AStack.stack)\n",
        "\n",
        "AStack.pop()                                              # pop last element\n",
        "print(AStack.stack)\n",
        "\n",
        "\n",
        "# Implement the code above by Queues (enqueu and dequeue)\n",
        "\n",
        "Array = [1,2,3]\n",
        "Array.append(4)\n",
        "Array.append(5)\n",
        "Array.pop()\n",
        "print(Array)\n",
        "\n",
        "# Implement the code above by Queues (enqueu and dequeue)\n",
        "\n",
        "insert elements to first index\n",
        "\n",
        "\n",
        "en - use append, insert a then b then c\n",
        "de - remove first element, [astack push - first]\n"
      ],
      "metadata": {
        "colab": {
          "base_uri": "https://localhost:8080/"
        },
        "id": "N2EiP4cve1mj",
        "outputId": "141b116a-28d0-42b5-fcc5-052f2ba4cfad"
      },
      "execution_count": null,
      "outputs": [
        {
          "output_type": "stream",
          "name": "stdout",
          "text": [
            "['A', 'B', 'C']\n",
            "['A', 'B']\n"
          ]
        }
      ]
    }
  ]
}