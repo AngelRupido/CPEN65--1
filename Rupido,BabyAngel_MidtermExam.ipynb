{
  "nbformat": 4,
  "nbformat_minor": 0,
  "metadata": {
    "colab": {
      "provenance": [],
      "authorship_tag": "ABX9TyOCcz1muuEp8A70zhgD1JwJ",
      "include_colab_link": true
    },
    "kernelspec": {
      "name": "python3",
      "display_name": "Python 3"
    },
    "language_info": {
      "name": "python"
    }
  },
  "cells": [
    {
      "cell_type": "markdown",
      "metadata": {
        "id": "view-in-github",
        "colab_type": "text"
      },
      "source": [
        "<a href=\"https://colab.research.google.com/github/AngelRupido/CPEN65--1/blob/main/Rupido%2CBabyAngel_MidtermExam.ipynb\" target=\"_parent\"><img src=\"https://colab.research.google.com/assets/colab-badge.svg\" alt=\"Open In Colab\"/></a>"
      ]
    },
    {
      "cell_type": "markdown",
      "source": [
        "##A. METHODOLOGY\n"
      ],
      "metadata": {
        "id": "Wpkh_reIHFLo"
      }
    },
    {
      "cell_type": "code",
      "source": [
        "# 1. Write a Python program to create an array of 10 integers and display the array items. Access individual elements through indexes and compute for the sum.\n",
        "\n",
        "import array as arr\n",
        "numbers = arr.array('i',[0, 1, 2, 3, 4, 5, 6, 7, 8, 9])\n",
        "print(numbers)\n",
        "\n",
        "index = int(input(\"Enter an Index: \"))\n",
        "print(\"Index Value of\", index, 'is: ', numbers[index])\n",
        "current = 0\n",
        "\n",
        "for x in numbers:\n",
        "  sum = current + numbers[x]\n",
        "  current = sum\n",
        "print('Sum: ',sum)"
      ],
      "metadata": {
        "colab": {
          "base_uri": "https://localhost:8080/"
        },
        "id": "HDG_I4bXW_-p",
        "outputId": "4dc6dfa1-832c-47c7-b4e4-129bb0baad0e"
      },
      "execution_count": 56,
      "outputs": [
        {
          "output_type": "stream",
          "name": "stdout",
          "text": [
            "array('i', [0, 1, 2, 3, 4, 5, 6, 7, 8, 9])\n",
            "Enter an Index: 7\n",
            "Index Value of 7 is:  7\n",
            "Sum:  45\n"
          ]
        }
      ]
    },
    {
      "cell_type": "code",
      "source": [
        "# 2. Write a Python program to append a new item to the end of the array. Original array: numbers = [1, 2, 3, 4, 5, 6, 7, 8, 9, 10]\n",
        "\n",
        "numbers = [1,2,3,4,5,6,7,8,9,10]\n",
        "print(\"Input New Item: \")\n",
        "item = int(input())\n",
        "\n",
        "print('Original Array: ', numbers)\n",
        "numbers.insert(11,item)\n",
        "print('New Array: ', numbers)"
      ],
      "metadata": {
        "colab": {
          "base_uri": "https://localhost:8080/"
        },
        "id": "5kA6h5BFHSFa",
        "outputId": "2c90d11f-107e-4a04-ac31-62e16311fda8"
      },
      "execution_count": 39,
      "outputs": [
        {
          "output_type": "stream",
          "name": "stdout",
          "text": [
            "Input New Item: \n",
            "11\n",
            "Original Array:  [1, 2, 3, 4, 5, 6, 7, 8, 9, 10]\n",
            "New Array:  [1, 2, 3, 4, 5, 6, 7, 8, 9, 10, 11]\n"
          ]
        }
      ]
    },
    {
      "cell_type": "code",
      "source": [
        "# 3. Write a Python program to insert a new item before the last element in an existing array. Original array: numbers = [1, 2, 3, 4, 5, 6, 7, 8, 9, 10]\n",
        "\n",
        "numbers = [1,2,3,4,5,6,7,8,9,10]\n",
        "print(\"Input New Item: \")\n",
        "item = int(input())\n",
        "\n",
        "print('Original Array: ', numbers)\n",
        "numbers.insert(9,item)\n",
        "print('New Array: ', numbers)"
      ],
      "metadata": {
        "colab": {
          "base_uri": "https://localhost:8080/"
        },
        "id": "LL9jFKMWHTyg",
        "outputId": "a953da57-7fea-4f7e-c028-1b499203f85e"
      },
      "execution_count": 41,
      "outputs": [
        {
          "output_type": "stream",
          "name": "stdout",
          "text": [
            "Input New Item: \n",
            "0\n",
            "Original Array:  [1, 2, 3, 4, 5, 6, 7, 8, 9, 10]\n",
            "New Array:  [1, 2, 3, 4, 5, 6, 7, 8, 9, 0, 10]\n"
          ]
        }
      ]
    },
    {
      "cell_type": "code",
      "source": [
        "# 4. Write a Python program to reverse the order of the items in the array. Original array: numbers = [1, 2, 3, 4, 5]\n",
        "import array as arr\n",
        "numbers = arr.array('i',[1, 2, 3, 4, 5])\n",
        "print('Original Array: ',numbers)\n",
        "numbers.reverse()\n",
        "print('Reversed Array: ',numbers)"
      ],
      "metadata": {
        "colab": {
          "base_uri": "https://localhost:8080/"
        },
        "id": "TOZxCY8JHVp1",
        "outputId": "e160c15a-1075-4a69-89f7-58a7a676e0f2"
      },
      "execution_count": 44,
      "outputs": [
        {
          "output_type": "stream",
          "name": "stdout",
          "text": [
            "Original Array:  array('i', [1, 2, 3, 4, 5])\n",
            "Reversed Array:  array('i', [5, 4, 3, 2, 1])\n"
          ]
        }
      ]
    },
    {
      "cell_type": "code",
      "source": [
        "# 5. Let A be an array of size n ≥ 2 containing integers from 1 to n−1, inclusive, with exactly one repeated. Create an algorithm for finding the integer in A that is repeated.\n",
        "\n",
        "def RepeatingElement(arr, n):\n",
        "\tMin = 1\n",
        "\tmyset = dict()\n",
        "\tfor i in range(1,n):\n",
        "\t\tif arr[i] in myset.keys():\n",
        "\t\t\tMin = i\n",
        "\t\telse: \n",
        "\t\t\tmyset[arr[i]] = 1\n",
        "\n",
        "\tif (Min != -1):\n",
        "\t\tprint(\"The repeating element is\",\n",
        "\t\t\tarr[Min])\n",
        "\telse:\n",
        "\t\tprint(\"There are no repeating elements\")\n",
        "\n",
        "arr = [1,2,2,3,4,5]\n",
        "n = len(arr)\n",
        "RepeatingElement(arr, n)"
      ],
      "metadata": {
        "colab": {
          "base_uri": "https://localhost:8080/"
        },
        "id": "SyuTDLZJd_GO",
        "outputId": "d3f570fa-cbd0-4b62-d763-7d4c88f15613"
      },
      "execution_count": 81,
      "outputs": [
        {
          "output_type": "stream",
          "name": "stdout",
          "text": [
            "The repeating element is 2\n"
          ]
        }
      ]
    }
  ]
}