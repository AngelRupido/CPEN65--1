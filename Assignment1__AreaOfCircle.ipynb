{
  "cells": [
    {
      "cell_type": "markdown",
      "metadata": {
        "id": "view-in-github",
        "colab_type": "text"
      },
      "source": [
        "<a href=\"https://colab.research.google.com/github/AngelRupido/CPEN65--1/blob/main/Assignment1__AreaOfCircle.ipynb\" target=\"_parent\"><img src=\"https://colab.research.google.com/assets/colab-badge.svg\" alt=\"Open In Colab\"/></a>"
      ]
    },
    {
      "cell_type": "code",
      "execution_count": null,
      "metadata": {
        "id": "86f7dk9Wgzam",
        "colab": {
          "base_uri": "https://localhost:8080/"
        },
        "outputId": "583f6734-bcce-4724-a38f-b9d736faf919"
      },
      "outputs": [
        {
          "output_type": "stream",
          "name": "stdout",
          "text": [
            "FIND THE AREA OF THE CIRCLE: \n",
            " Identify which property. \n",
            " 1. Radius \n",
            " 2. Diameter \n",
            " >>>:1\n",
            "Value of the Radius: 2\n",
            "The area of a circle is:  12.56 \n",
            "\n",
            "FIND THE AREA OF THE CIRCLE: \n",
            " Identify which property. \n",
            " 1. Radius \n",
            " 2. Diameter \n",
            " >>>:2\n",
            "Value of the Diameter: 4\n",
            "The area of a circle is:  12.56 \n",
            "\n"
          ]
        }
      ],
      "source": [
        "# #Create a Python program that computes the area of a circle\n",
        "\n",
        "class area_circle:\n",
        "    def __init__(self,radius,diameter):\n",
        "        self.radius = radius\n",
        "        self.diameter = diameter\n",
        "\n",
        "    def area(self):\n",
        "        rept = \"yes\"\n",
        "        while rept.lower() == \"yes\":\n",
        "\n",
        "            circle = input(\"FIND THE AREA OF THE CIRCLE: \\n Identify which property. \\n 1. Radius \\n 2. Diameter \\n >>>:\")\n",
        "\n",
        "            if circle == '1':\n",
        "                self.radius = int(input(\"Value of the Radius: \"))\n",
        "                print(\"The area of a circle is: \", 3.14 * self.radius * self.radius, \"\\n\")\n",
        "            elif circle == '2':\n",
        "                self.diameter= int(input(\"Value of the Diameter: \"))\n",
        "                print(\"The area of a circle is: \", 0.25 * 3.14 * self.diameter * self.diameter, \"\\n\")\n",
        "            else:\n",
        "                print(\"Wrong input, try again. \\n\")\n",
        "\n",
        "area_circle.area(area_circle)"
      ]
    }
  ],
  "metadata": {
    "colab": {
      "provenance": [],
      "collapsed_sections": [],
      "authorship_tag": "ABX9TyNXecSXsZfKEHhXxEElceOf",
      "include_colab_link": true
    },
    "kernelspec": {
      "display_name": "Python 3",
      "name": "python3"
    },
    "language_info": {
      "name": "python"
    }
  },
  "nbformat": 4,
  "nbformat_minor": 0
}