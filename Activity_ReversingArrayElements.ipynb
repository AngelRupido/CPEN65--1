{
  "nbformat": 4,
  "nbformat_minor": 0,
  "metadata": {
    "colab": {
      "provenance": [],
      "authorship_tag": "ABX9TyNEOCw+KLkDr9HM4NoaR1Kd",
      "include_colab_link": true
    },
    "kernelspec": {
      "name": "python3",
      "display_name": "Python 3"
    },
    "language_info": {
      "name": "python"
    }
  },
  "cells": [
    {
      "cell_type": "markdown",
      "metadata": {
        "id": "view-in-github",
        "colab_type": "text"
      },
      "source": [
        "<a href=\"https://colab.research.google.com/github/AngelRupido/CPEN65--1/blob/main/Activity_ReversingArrayElements.ipynb\" target=\"_parent\"><img src=\"https://colab.research.google.com/assets/colab-badge.svg\" alt=\"Open In Colab\"/></a>"
      ]
    },
    {
      "cell_type": "code",
      "execution_count": 4,
      "metadata": {
        "colab": {
          "base_uri": "https://localhost:8080/"
        },
        "id": "2-eTTm3Pu3Wc",
        "outputId": "d56f9638-7cd3-40db-8074-8cc86b192c1a"
      },
      "outputs": [
        {
          "output_type": "stream",
          "name": "stdout",
          "text": [
            "REVERSE ORDER: ['O', 'D', 'I', 'P', 'U', 'R', 'E.', 'L', 'E', 'G', 'N', 'A', 'Y', 'B', 'A', 'B']\n"
          ]
        }
      ],
      "source": [
        "#Reversing Array Elements \n",
        "\n",
        "my_name = [\"B\", \"A\", \"B\", \"Y\", \"A\", \"N\", \"G\", \"E\", \"L\", \"E.\", \"R\", \"U\", \"P\", \"I\", \"D\", \"O\"]\n",
        "\n",
        "my_name.reverse()\n",
        "print(\"REVERSE ORDER:\" ,my_name)"
      ]
    }
  ]
}