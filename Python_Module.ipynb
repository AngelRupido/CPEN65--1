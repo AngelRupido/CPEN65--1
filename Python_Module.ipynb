{
  "nbformat": 4,
  "nbformat_minor": 0,
  "metadata": {
    "colab": {
      "provenance": [],
      "authorship_tag": "ABX9TyOqiOq9/mqHXuLm/GkNvnv2",
      "include_colab_link": true
    },
    "kernelspec": {
      "name": "python3",
      "display_name": "Python 3"
    },
    "language_info": {
      "name": "python"
    }
  },
  "cells": [
    {
      "cell_type": "markdown",
      "metadata": {
        "id": "view-in-github",
        "colab_type": "text"
      },
      "source": [
        "<a href=\"https://colab.research.google.com/github/AngelRupido/CPEN65--1/blob/main/Python_Module.ipynb\" target=\"_parent\"><img src=\"https://colab.research.google.com/assets/colab-badge.svg\" alt=\"Open In Colab\"/></a>"
      ]
    },
    {
      "cell_type": "markdown",
      "source": [
        "## ARRAY MODULE IN PYTHON"
      ],
      "metadata": {
        "id": "8JQcWFmtPKGQ"
      }
    },
    {
      "cell_type": "code",
      "execution_count": 9,
      "metadata": {
        "colab": {
          "base_uri": "https://localhost:8080/"
        },
        "id": "m6MI0qGMObhs",
        "outputId": "44b99fdf-9364-4413-f7f3-a62a6d5a9dee"
      },
      "outputs": [
        {
          "output_type": "stream",
          "name": "stdout",
          "text": [
            "i\n",
            "f\n"
          ]
        }
      ],
      "source": [
        "# getting typecodes\n",
        "import array \n",
        "array.typecodes\n",
        "a = array.array('i', [1,2,3,4,5])\n",
        "print(a.typecode)\n",
        "b = array.array('f', [1.5,2.5,3.5,4.5,5.5])\n",
        "print(b.typecode)"
      ]
    },
    {
      "cell_type": "code",
      "source": [
        "# getting typecodes\n",
        "import array as arr\n",
        "arr.typecodes\n",
        "a = arr.array('i', [1,2,3,4,5])\n",
        "print(a.typecode)\n",
        "b = arr.array('f', [1.5,2.5,3.5,4.5,5.5])\n",
        "print(b.typecode)"
      ],
      "metadata": {
        "colab": {
          "base_uri": "https://localhost:8080/"
        },
        "id": "M_VOVqe5S9wn",
        "outputId": "87e0acf3-a978-46c6-da9b-acdcd271e6f0"
      },
      "execution_count": 10,
      "outputs": [
        {
          "output_type": "stream",
          "name": "stdout",
          "text": [
            "i\n",
            "f\n"
          ]
        }
      ]
    },
    {
      "cell_type": "markdown",
      "source": [
        "### WHAT ARE THE OUTPUT OF THESE CODES?"
      ],
      "metadata": {
        "id": "hSrNTL8rS1Rq"
      }
    },
    {
      "cell_type": "code",
      "source": [
        "import array as arr\n",
        "a = arr.array('i',[4,5,6,7])\n",
        "print(a)\n",
        "\n",
        "c = a.insert(1,2)\n",
        "print(a)\n",
        "a.insert(-1,2)\n",
        "print(a)\n",
        "a.insert(6,8)\n",
        "print(a)\n",
        "a.insert(10,-1)\n",
        "print(a)"
      ],
      "metadata": {
        "colab": {
          "base_uri": "https://localhost:8080/"
        },
        "id": "a2xLu4PYPK1d",
        "outputId": "218f7af0-fe76-4b72-80d2-37c611ce10d8"
      },
      "execution_count": 11,
      "outputs": [
        {
          "output_type": "stream",
          "name": "stdout",
          "text": [
            "array('i', [4, 5, 6, 7])\n",
            "array('i', [4, 2, 5, 6, 7])\n",
            "array('i', [4, 2, 5, 6, 2, 7])\n",
            "array('i', [4, 2, 5, 6, 2, 7, 8])\n",
            "array('i', [4, 2, 5, 6, 2, 7, 8, -1])\n"
          ]
        }
      ]
    },
    {
      "cell_type": "markdown",
      "source": [
        "## LINKED LIST"
      ],
      "metadata": {
        "id": "2uPpOteCVHQv"
      }
    },
    {
      "cell_type": "code",
      "source": [
        "# PYTHON PROGRAM TO CREATE A SINGLY LINKED OF VOWEL IN ENGLISH\n",
        "\n",
        "# NODE CLASS\n",
        "class Node:\n",
        "  def __init__(self, data):                                                      # function to initialize the node object\n",
        "    self.data = data                                                             # assign data\n",
        "    self.next = None                                                             # initialize as null/empty\n",
        "\n",
        "# LINKED LIST THAT CONTAINS NODE OBJECT \n",
        "class LinkedList:\n",
        "  def __init__(self):\n",
        "    self.head = None\n",
        "\n",
        "  def printlist(self):\n",
        "    temp = self.head\n",
        "    while(temp):\n",
        "      print(temp.data)\n",
        "      temp = temp.next \n",
        "\n",
        "# CODE EXECUTION STARTING FROM EMPTY LIST\n",
        "llist = LinkedList()\n",
        "llist.head = Node(\"a\")\n",
        "second = Node(\"e\")\n",
        "third = Node(\"i\")\n",
        "fourth = Node (\"o\")\n",
        "fifth = Node (\"u\")\n",
        "\n",
        "llist.head.next = second\n",
        "second.next = third                                                                                                                   # not (data) - bec the result would be \"e\"\n",
        "third.next = fourth\n",
        "fourth.next = fifth\n",
        "\n",
        "# print(LinkedList)\n",
        "llist.printlist()"
      ],
      "metadata": {
        "colab": {
          "base_uri": "https://localhost:8080/"
        },
        "id": "nvRZ0ELDS8W6",
        "outputId": "b6a933e6-a05e-4e23-8022-070be9f8b822"
      },
      "execution_count": 17,
      "outputs": [
        {
          "output_type": "stream",
          "name": "stdout",
          "text": [
            "a\n",
            "e\n",
            "i\n",
            "o\n",
            "u\n"
          ]
        }
      ]
    }
  ]
}