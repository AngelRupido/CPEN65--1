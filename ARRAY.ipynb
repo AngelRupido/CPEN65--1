{
  "nbformat": 4,
  "nbformat_minor": 0,
  "metadata": {
    "colab": {
      "provenance": [],
      "authorship_tag": "ABX9TyPsaQSy9Vnc1GeJCNZR5Qm3",
      "include_colab_link": true
    },
    "kernelspec": {
      "name": "python3",
      "display_name": "Python 3"
    },
    "language_info": {
      "name": "python"
    }
  },
  "cells": [
    {
      "cell_type": "markdown",
      "metadata": {
        "id": "view-in-github",
        "colab_type": "text"
      },
      "source": [
        "<a href=\"https://colab.research.google.com/github/AngelRupido/CPEN65--1/blob/main/ARRAY.ipynb\" target=\"_parent\"><img src=\"https://colab.research.google.com/assets/colab-badge.svg\" alt=\"Open In Colab\"/></a>"
      ]
    },
    {
      "cell_type": "code",
      "execution_count": 21,
      "metadata": {
        "colab": {
          "base_uri": "https://localhost:8080/"
        },
        "id": "2fvmxpTHF79U",
        "outputId": "8538403e-1626-4dd7-aa29-4405da860cfe"
      },
      "outputs": [
        {
          "output_type": "stream",
          "name": "stdout",
          "text": [
            "animals[0] = cat\n",
            "animals[1] = dog\n",
            "animals[2] = fish\n"
          ]
        }
      ],
      "source": [
        "# Accessing the elements in an array.\n",
        "animals = ['cat', 'dog', 'fish']\n",
        "x = animals[0]\n",
        "y = animals[1]\n",
        "z = animals[2]\n",
        "print('animals[0] =', x)\n",
        "print('animals[1] =', y)\n",
        "print('animals[2] =', z)"
      ]
    },
    {
      "cell_type": "code",
      "source": [
        "# Modifying the element/s in the array.\n",
        "animals = ['cat', 'dog', 'fish']\n",
        "animals[0] = \"monkey\"\n",
        "x = animals[0]\n",
        "print('animals[0] =', x)\n",
        "print(animals)"
      ],
      "metadata": {
        "colab": {
          "base_uri": "https://localhost:8080/"
        },
        "id": "ONfBW5c8GD9Y",
        "outputId": "833fe308-204f-4897-d4b7-dab630978dbc"
      },
      "execution_count": 22,
      "outputs": [
        {
          "output_type": "stream",
          "name": "stdout",
          "text": [
            "animals[0] = monkey\n",
            "['monkey', 'dog', 'fish']\n"
          ]
        }
      ]
    },
    {
      "cell_type": "code",
      "source": [
        "# Length of an array\n",
        "animals = ['monkey', 'dog', 'fish', 'cat', 'bird']\n",
        "v = len(animals)\n",
        "print(v)"
      ],
      "metadata": {
        "colab": {
          "base_uri": "https://localhost:8080/"
        },
        "id": "2UT7pLQ3GG2W",
        "outputId": "acb7310d-7364-4042-fdbe-b084d5e8c7e4"
      },
      "execution_count": 23,
      "outputs": [
        {
          "output_type": "stream",
          "name": "stdout",
          "text": [
            "5\n"
          ]
        }
      ]
    },
    {
      "cell_type": "code",
      "source": [
        "# Looping array elements\n",
        "animals = ['monkey', 'dog', 'fish', 'cat', 'bird']\n",
        "for animal in animals:\n",
        "  print(animal)"
      ],
      "metadata": {
        "colab": {
          "base_uri": "https://localhost:8080/"
        },
        "id": "44_bYBPdGJ0L",
        "outputId": "327352aa-3e9b-4d7e-81f4-acb9cfd670f2"
      },
      "execution_count": 24,
      "outputs": [
        {
          "output_type": "stream",
          "name": "stdout",
          "text": [
            "monkey\n",
            "dog\n",
            "fish\n",
            "cat\n",
            "bird\n"
          ]
        }
      ]
    },
    {
      "cell_type": "code",
      "source": [
        "# Looping array elements\n",
        "animals = ['monkey', 'dog', 'fish', 'cat', 'bird']\n",
        "for animal in animals:\n",
        "  print('animal[%s] = %s' % (animals.index(animal), animal))"
      ],
      "metadata": {
        "colab": {
          "base_uri": "https://localhost:8080/"
        },
        "id": "VSq444_xGLng",
        "outputId": "55a61464-e4a4-4bc2-fec5-1e361c0fc62e"
      },
      "execution_count": 25,
      "outputs": [
        {
          "output_type": "stream",
          "name": "stdout",
          "text": [
            "animal[0] = monkey\n",
            "animal[1] = dog\n",
            "animal[2] = fish\n",
            "animal[3] = cat\n",
            "animal[4] = bird\n"
          ]
        }
      ]
    },
    {
      "cell_type": "code",
      "source": [
        "animals = ['monkey', 'dog', 'fish', 'cat', 'bird']\n",
        "for i, animal in enumerate(animals):\n",
        "  print('animal[%s] = %s' % (i, animal))"
      ],
      "metadata": {
        "colab": {
          "base_uri": "https://localhost:8080/"
        },
        "id": "wWt_U0m4GNaJ",
        "outputId": "704ebcb9-45e2-493c-8980-b8997c41611f"
      },
      "execution_count": 26,
      "outputs": [
        {
          "output_type": "stream",
          "name": "stdout",
          "text": [
            "animal[0] = monkey\n",
            "animal[1] = dog\n",
            "animal[2] = fish\n",
            "animal[3] = cat\n",
            "animal[4] = bird\n"
          ]
        }
      ]
    },
    {
      "cell_type": "code",
      "source": [
        "# Adding element/s in an array\n",
        "animals = ['monkey', 'dog', 'fish', 'cat', 'bird']\n",
        "animals.append('lion')\n",
        "print(animals)"
      ],
      "metadata": {
        "colab": {
          "base_uri": "https://localhost:8080/"
        },
        "id": "hYdchHBjGPIV",
        "outputId": "1b75c87c-b12c-4e67-b1bd-d7fe20c45108"
      },
      "execution_count": 27,
      "outputs": [
        {
          "output_type": "stream",
          "name": "stdout",
          "text": [
            "['monkey', 'dog', 'fish', 'cat', 'bird', 'lion']\n"
          ]
        }
      ]
    },
    {
      "cell_type": "code",
      "source": [
        "# Let's Try\n",
        "# Write a Python program to insert a new item (11) efore the second element in \n",
        "# an existing array.\n",
        "numbers = [1, 2, 3, 4, 5, 6, 7, 8, 9, 10]\n",
        "numbers.insert(1, 11)\n",
        "print(numbers)"
      ],
      "metadata": {
        "colab": {
          "base_uri": "https://localhost:8080/"
        },
        "id": "hIBg7eXkGQpX",
        "outputId": "ff34a1b7-3e07-4e03-c9b3-0480b5ae39c6"
      },
      "execution_count": 28,
      "outputs": [
        {
          "output_type": "stream",
          "name": "stdout",
          "text": [
            "[1, 11, 2, 3, 4, 5, 6, 7, 8, 9, 10]\n"
          ]
        }
      ]
    },
    {
      "cell_type": "code",
      "source": [
        "# Removing element/s in the array\n",
        "numbers.pop(1)\n",
        "print(numbers)"
      ],
      "metadata": {
        "colab": {
          "base_uri": "https://localhost:8080/"
        },
        "id": "6WnPM4YnGSPf",
        "outputId": "fea4c299-6497-4d1e-9bb4-aced6e007dd9"
      },
      "execution_count": 29,
      "outputs": [
        {
          "output_type": "stream",
          "name": "stdout",
          "text": [
            "[1, 2, 3, 4, 5, 6, 7, 8, 9, 10]\n"
          ]
        }
      ]
    }
  ]
}